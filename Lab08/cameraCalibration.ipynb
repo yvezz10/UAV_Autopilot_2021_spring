{
 "cells": [
  {
   "cell_type": "code",
   "execution_count": 8,
   "id": "interpreted-stream",
   "metadata": {},
   "outputs": [
    {
     "name": "stdout",
     "output_type": "stream",
     "text": [
      "finish\n"
     ]
    },
    {
     "data": {
      "text/plain": [
       "-1"
      ]
     },
     "execution_count": 8,
     "metadata": {},
     "output_type": "execute_result"
    }
   ],
   "source": [
    "import cv2\n",
    "import numpy as np\n",
    "\n",
    "criteria = (cv2.TERM_CRITERIA_EPS + cv2.TERM_CRITERIA_MAX_ITER, 30, 0.1)\n",
    "\n",
    "objp = np.zeros((6*9,3), np.float32)\n",
    "objp[:,:2] = np.mgrid[0:9,0:6].T.reshape(-1,2)\n",
    "\n",
    "objpoints = [] # 3d point in real world space\n",
    "imgpoints = [] # 2d points in image plane.\n",
    "cnt = 0\n",
    "cap = cv2.VideoCapture(0)\n",
    "\n",
    "\n",
    "    \n",
    "while(True):\n",
    "    ret, frame = cap.read()\n",
    "\n",
    "    gray = cv2.cvtColor(frame,cv2.COLOR_BGR2GRAY)\n",
    "    ret, corners = cv2.findChessboardCorners(gray, (9,6), None)\n",
    "\n",
    "    if(ret == True):\n",
    "        cnt +=1\n",
    "        objpoints.append(objp)\n",
    "        corners2 = cv2.cornerSubPix(gray,corners,(11,11),(-1,-1),criteria)\n",
    "        imgpoints.append(corners2)\n",
    "        if(cnt==50):\n",
    "            retval, cameraMatrix, distCoeffs, rvecs, tvecs = cv2.calibrateCamera(objpoints, imgpoints,gray.shape[::-1], None,None)\n",
    "            f = cv2.FileStorage('data.xml', cv2.FILE_STORAGE_WRITE)\n",
    "            f.write(\"intrinsic\", cameraMatrix)\n",
    "            f.write(\"distortion\", distCoeffs)\n",
    "            f.release()\n",
    "            print(\"finish\")\n",
    "            break\n",
    "\n",
    "    cv2.imshow('frame', gray)\n",
    "    if (cv2.waitKey(33)&0xFF == ord('q')):\n",
    "        break\n",
    "cv2.destroyAllWindows()\n",
    "cv2.waitKey(1)"
   ]
  }
 ],
 "metadata": {
  "kernelspec": {
   "display_name": "Python 3",
   "language": "python",
   "name": "python3"
  },
  "language_info": {
   "codemirror_mode": {
    "name": "ipython",
    "version": 3
   },
   "file_extension": ".py",
   "mimetype": "text/x-python",
   "name": "python",
   "nbconvert_exporter": "python",
   "pygments_lexer": "ipython3",
   "version": "3.7.4"
  }
 },
 "nbformat": 4,
 "nbformat_minor": 5
}
