{
 "cells": [
  {
   "cell_type": "code",
   "execution_count": 3,
   "id": "standing-advertiser",
   "metadata": {},
   "outputs": [],
   "source": [
    "import cv2\n",
    "import numpy as np"
   ]
  },
  {
   "cell_type": "code",
   "execution_count": 14,
   "id": "medical-minute",
   "metadata": {},
   "outputs": [],
   "source": [
    "nmask = [[0,0,0,0,0,0,0,0,0,0,0,0,1,1,1,1],[0,0,0,0,0,0,0,0,0,0,0,0,0,0,0,1],[0,0,0,0,0,0,1,1,1,1,0,0,0,0,0,1],\n",
    "         [0,1,0,0,0,0,1,1,0,0,0,0,0,0,0,1],[0,1,0,1,1,1,1,1,0,0,0,0,0,0,0,1],[1,1,0,0,0,1,1,1,0,0,0,0,0,0,0,1],\n",
    "         [1,0,0,0,0,0,0,0,0,0,0,0,0,0,0,1],[1,0,0,0,0,0,0,0,0,0,0,0,0,0,0,1],[1,0,0,0,0,0,0,0,0,0,0,0,0,0,0,1],\n",
    "         [1,1,1,1,1,1,1,1,1,1,1,1,1,1,1,1]]"
   ]
  },
  {
   "cell_type": "code",
   "execution_count": 15,
   "id": "polyphonic-health",
   "metadata": {},
   "outputs": [],
   "source": [
    "flag = 0\n",
    "label = []\n",
    "(h,w) = np.shape(nmask)\n",
    "for i in range(h):\n",
    "        for j in range(w):\n",
    "            if(nmask[i][j]!=0):\n",
    "                if(i==0 and j ==0):\n",
    "                    flag+=1\n",
    "                    nmask[i][j] = flag\n",
    "                elif(i==0):\n",
    "                    if(nmask[i][j-1]!=0):\n",
    "                        nmask[i][j] = nmask[i][j-1]\n",
    "                    else:\n",
    "                        flag+=1\n",
    "                        nmask[i][j] = flag\n",
    "                elif(j==0):\n",
    "                    if(nmask[i-1][j]!=0):\n",
    "                        nmask[i][j] =nmask[i-1][j]\n",
    "                    else:\n",
    "                        flag+=1\n",
    "                        nmask[i][j] =flag\n",
    "                else:\n",
    "                    if(nmask[i-1][j] != 0 and nmask[i][j-1] != 0 and nmask[i-1][j] != nmask[i][j-1]):\n",
    "                        nmask[i][j] = min(nmask[i][j-1], nmask[i-1][j])\n",
    "                        s = set([nmask[i][j-1], nmask[i-1][j]])\n",
    "                        label.append(s)\n",
    "                    elif(nmask[i-1][j] != 0 and nmask[i][j-1] != 0):\n",
    "                        nmask[i][j] = nmask[i-1][j]\n",
    "                    elif(nmask[i][j-1]!=0):\n",
    "                        nmask[i][j] = nmask[i][j-1]\n",
    "                    elif(nmask[i-1][j]!=0):\n",
    "                        nmask[i][j] = nmask[i-1][j]\n",
    "\n",
    "                    else:\n",
    "                        flag+=1\n",
    "                        nmask[i][j] = flag"
   ]
  },
  {
   "cell_type": "code",
   "execution_count": 16,
   "id": "elder-terrace",
   "metadata": {
    "scrolled": false
   },
   "outputs": [
    {
     "name": "stdout",
     "output_type": "stream",
     "text": [
      "[0, 0, 0, 1, 0, 0, 0, 0, 0, 0, 0, 0, 2, 2, 2, 2] \n",
      "\n",
      "[0, 0, 0, 0, 0, 0, 0, 0, 0, 0, 0, 0, 0, 0, 0, 2] \n",
      "\n",
      "[0, 0, 0, 0, 0, 0, 3, 3, 3, 3, 0, 0, 0, 0, 0, 2] \n",
      "\n",
      "[0, 4, 0, 0, 0, 0, 3, 3, 0, 0, 0, 0, 0, 0, 0, 2] \n",
      "\n",
      "[0, 4, 0, 5, 5, 5, 3, 3, 0, 0, 0, 0, 0, 0, 0, 2] \n",
      "\n",
      "[6, 4, 0, 0, 0, 5, 3, 3, 0, 0, 0, 0, 0, 0, 0, 2] \n",
      "\n",
      "[6, 0, 0, 0, 0, 0, 0, 0, 0, 0, 0, 0, 0, 0, 0, 2] \n",
      "\n",
      "[6, 0, 0, 0, 0, 0, 0, 0, 0, 0, 0, 0, 0, 0, 0, 2] \n",
      "\n",
      "[6, 0, 0, 0, 0, 0, 0, 0, 0, 0, 0, 0, 0, 0, 0, 2] \n",
      "\n",
      "[6, 6, 6, 6, 6, 6, 6, 6, 6, 6, 6, 6, 6, 6, 6, 2] \n",
      "\n"
     ]
    }
   ],
   "source": [
    "for i in range(10): print(nmask[i],'\\n')"
   ]
  },
  {
   "cell_type": "code",
   "execution_count": 17,
   "id": "excellent-horizon",
   "metadata": {},
   "outputs": [],
   "source": [
    "pool = set(map(frozenset, label))\n",
    "groups = []\n",
    "while pool:\n",
    "    groups.append(set(pool.pop()))\n",
    "    while True:\n",
    "        for candidate in pool:\n",
    "            if groups[-1] & candidate:\n",
    "                groups[-1] |= candidate\n",
    "                pool.remove(candidate)\n",
    "                break\n",
    "        else:\n",
    "            break"
   ]
  },
  {
   "cell_type": "code",
   "execution_count": 19,
   "id": "lyric-printer",
   "metadata": {},
   "outputs": [],
   "source": [
    "arr = [0]*256\n",
    "for i in range(10):\n",
    "        for j in range(16):\n",
    "            if (nmask[i][j]!=0):\n",
    "                for m in range(len(groups)):\n",
    "                    if nmask[i][j] in groups[m]:\n",
    "                        nmask[i][j] = min(groups[m])\n",
    "                arr[nmask[i][j]]+=1\n"
   ]
  },
  {
   "cell_type": "code",
   "execution_count": 20,
   "id": "loving-october",
   "metadata": {},
   "outputs": [
    {
     "data": {
      "text/plain": [
       "[[0, 0, 0, 1, 0, 0, 0, 0, 0, 0, 0, 0, 2, 2, 2, 2],\n",
       " [0, 0, 0, 0, 0, 0, 0, 0, 0, 0, 0, 0, 0, 0, 0, 2],\n",
       " [0, 0, 0, 0, 0, 0, 3, 3, 3, 3, 0, 0, 0, 0, 0, 2],\n",
       " [0, 2, 0, 0, 0, 0, 3, 3, 0, 0, 0, 0, 0, 0, 0, 2],\n",
       " [0, 2, 0, 3, 3, 3, 3, 3, 0, 0, 0, 0, 0, 0, 0, 2],\n",
       " [2, 2, 0, 0, 0, 3, 3, 3, 0, 0, 0, 0, 0, 0, 0, 2],\n",
       " [2, 0, 0, 0, 0, 0, 0, 0, 0, 0, 0, 0, 0, 0, 0, 2],\n",
       " [2, 0, 0, 0, 0, 0, 0, 0, 0, 0, 0, 0, 0, 0, 0, 2],\n",
       " [2, 0, 0, 0, 0, 0, 0, 0, 0, 0, 0, 0, 0, 0, 0, 2],\n",
       " [2, 2, 2, 2, 2, 2, 2, 2, 2, 2, 2, 2, 2, 2, 2, 2]]"
      ]
     },
     "execution_count": 20,
     "metadata": {},
     "output_type": "execute_result"
    }
   ],
   "source": [
    "nmask"
   ]
  }
 ],
 "metadata": {
  "kernelspec": {
   "display_name": "Python 3",
   "language": "python",
   "name": "python3"
  },
  "language_info": {
   "codemirror_mode": {
    "name": "ipython",
    "version": 3
   },
   "file_extension": ".py",
   "mimetype": "text/x-python",
   "name": "python",
   "nbconvert_exporter": "python",
   "pygments_lexer": "ipython3",
   "version": "3.7.4"
  }
 },
 "nbformat": 4,
 "nbformat_minor": 5
}
