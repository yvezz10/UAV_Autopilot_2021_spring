{
 "cells": [
  {
   "cell_type": "code",
   "execution_count": 5,
   "id": "documented-absence",
   "metadata": {},
   "outputs": [],
   "source": [
    "import cv2\n",
    "import numpy as np"
   ]
  },
  {
   "cell_type": "code",
   "execution_count": 6,
   "id": "brutal-afghanistan",
   "metadata": {},
   "outputs": [
    {
     "data": {
      "text/plain": [
       "-1"
      ]
     },
     "execution_count": 6,
     "metadata": {},
     "output_type": "execute_result"
    }
   ],
   "source": [
    "#提取前景\n",
    "cap  = cv2.VideoCapture('vtest.avi')\n",
    "backSub = cv2.createBackgroundSubtractorMOG2() #這行要放在while外面\n",
    "\n",
    "while cap.isOpened():\n",
    "    ret, frame = cap.read()\n",
    "    fgmask = backSub.apply(frame)\n",
    "    cv2.imshow('frame', fgmask)\n",
    "    if cv2.waitKey(33)&0xFF == ord('q'):\n",
    "        break\n",
    "cap.release()\n",
    "cv2.destroyAllWindows()\n",
    "cv2.waitKey(1)"
   ]
  },
  {
   "cell_type": "code",
   "execution_count": 8,
   "id": "valuable-luxury",
   "metadata": {},
   "outputs": [
    {
     "data": {
      "text/plain": [
       "-1"
      ]
     },
     "execution_count": 8,
     "metadata": {},
     "output_type": "execute_result"
    }
   ],
   "source": [
    "#去除陰影\n",
    "cap  = cv2.VideoCapture('vtest.avi')\n",
    "backSub = cv2.createBackgroundSubtractorMOG2()\n",
    "while cap.isOpened():\n",
    "    ret, frame = cap.read()\n",
    "    fgmask = backSub.apply(frame)\n",
    "    shadowval = backSub.getShadowValue()\n",
    "    ret, nmask = cv2.threshold(fgmask, shadowval, 255, cv2.THRESH_BINARY)\n",
    "    #nmask = cv2.GaussianBlur(nmask,(5,5),0)\n",
    "    cv2.imshow(\"frame\", nmask)\n",
    "    if cv2.waitKey(33)&0xFF == ord('q'):\n",
    "        break\n",
    "cap.release()\n",
    "cv2.destroyAllWindows()\n",
    "cv2.waitKey(1)"
   ]
  },
  {
   "cell_type": "code",
   "execution_count": 9,
   "id": "central-mobility",
   "metadata": {
    "scrolled": false
   },
   "outputs": [
    {
     "ename": "KeyboardInterrupt",
     "evalue": "",
     "output_type": "error",
     "traceback": [
      "\u001b[0;31m---------------------------------------------------------------------------\u001b[0m",
      "\u001b[0;31mKeyboardInterrupt\u001b[0m                         Traceback (most recent call last)",
      "\u001b[0;32m<ipython-input-9-04db541dbc15>\u001b[0m in \u001b[0;36m<module>\u001b[0;34m\u001b[0m\n\u001b[1;32m     13\u001b[0m     \u001b[0;32mfor\u001b[0m \u001b[0mi\u001b[0m \u001b[0;32min\u001b[0m \u001b[0mrange\u001b[0m\u001b[0;34m(\u001b[0m\u001b[0;36m576\u001b[0m\u001b[0;34m)\u001b[0m\u001b[0;34m:\u001b[0m\u001b[0;34m\u001b[0m\u001b[0;34m\u001b[0m\u001b[0m\n\u001b[1;32m     14\u001b[0m         \u001b[0;32mfor\u001b[0m \u001b[0mj\u001b[0m \u001b[0;32min\u001b[0m \u001b[0mrange\u001b[0m\u001b[0;34m(\u001b[0m\u001b[0;36m768\u001b[0m\u001b[0;34m)\u001b[0m\u001b[0;34m:\u001b[0m\u001b[0;34m\u001b[0m\u001b[0;34m\u001b[0m\u001b[0m\n\u001b[0;32m---> 15\u001b[0;31m             \u001b[0;32mif\u001b[0m\u001b[0;34m(\u001b[0m\u001b[0mnmask\u001b[0m\u001b[0;34m[\u001b[0m\u001b[0mi\u001b[0m\u001b[0;34m,\u001b[0m\u001b[0mj\u001b[0m\u001b[0;34m]\u001b[0m\u001b[0;34m!=\u001b[0m\u001b[0;36m0\u001b[0m\u001b[0;34m)\u001b[0m\u001b[0;34m:\u001b[0m\u001b[0;34m\u001b[0m\u001b[0;34m\u001b[0m\u001b[0m\n\u001b[0m\u001b[1;32m     16\u001b[0m                 \u001b[0;32mif\u001b[0m\u001b[0;34m(\u001b[0m\u001b[0mi\u001b[0m\u001b[0;34m==\u001b[0m\u001b[0;36m0\u001b[0m \u001b[0;32mand\u001b[0m \u001b[0mj\u001b[0m \u001b[0;34m==\u001b[0m\u001b[0;36m0\u001b[0m\u001b[0;34m)\u001b[0m\u001b[0;34m:\u001b[0m\u001b[0;34m\u001b[0m\u001b[0;34m\u001b[0m\u001b[0m\n\u001b[1;32m     17\u001b[0m                     \u001b[0mflag\u001b[0m\u001b[0;34m+=\u001b[0m\u001b[0;36m1\u001b[0m\u001b[0;34m\u001b[0m\u001b[0;34m\u001b[0m\u001b[0m\n",
      "\u001b[0;31mKeyboardInterrupt\u001b[0m: "
     ]
    }
   ],
   "source": [
    "#connected component\n",
    "cap  = cv2.VideoCapture('vtest.avi')\n",
    "backSub = cv2.createBackgroundSubtractorMOG2()\n",
    "\n",
    "\n",
    "while cap.isOpened():\n",
    "    arr = [0]*1000\n",
    "    cnt = [0]*1000\n",
    "    flag = -1\n",
    "    ret, frame = cap.read()\n",
    "    fgmask = backSub.apply(frame)\n",
    "    shadowval = backSub.getShadowValue()\n",
    "    ret, nmask = cv2.threshold(fgmask, shadowval, 255, cv2.THRESH_BINARY)\n",
    "    for i in range(576):\n",
    "        for j in range(768):\n",
    "            if(nmask[i,j]!=0):\n",
    "                if(i==0 and j ==0):\n",
    "                    flag+=1\n",
    "                    arr[flag] = flag+1\n",
    "                    nmask[i,j] = arr[flag]\n",
    "                    cnt[nmask[i,j]-1] +=1\n",
    "                elif(i==0):\n",
    "                    if(nmask[i,j-1]!=0):\n",
    "                        nmask[i,j] = nmask[i,j-1]\n",
    "                        cnt[nmask[i,j]-1] +=1\n",
    "                    else:\n",
    "                        flag+=1\n",
    "                        arr[flag] = flag+1\n",
    "                        nmask[i,j] = arr[flag]\n",
    "                        cnt[nmask[i,j]] +=1\n",
    "                elif(j==0):\n",
    "                    if(nmask[i-1,j]!=0):\n",
    "                        nmask[i,j] = nmask[i-1,j]\n",
    "                        cnt[nmask[i,j]] +=1\n",
    "                    else:\n",
    "                        flag+=1\n",
    "                        arr[flag] = flag+1\n",
    "                        nmask[i,j] = arr[flag]\n",
    "                        cnt[nmask[i,j]] +=1\n",
    "                else:\n",
    "                    \n",
    "                    if(nmask[i-1,j]!=0 and nmask[i,j-1]==0):\n",
    "                        nmask[i,j] = nmask[i-1,j]\n",
    "                        cnt[nmask[i,j]-1] +=1\n",
    "                    elif(nmask[i,j-1]!=0 and nmask[i-1,j]==0):\n",
    "                        nmask[i,j] = nmask[i,j-1]\n",
    "                        cnt[nmask[i,j]-1] +=1\n",
    "                    elif(nmask[i-1,j] != 0 and nmask[i,j-1] != 0):       \n",
    "                        nmask[i,j] = nmask[i-1,j]\n",
    "                        arr[nmask[i,j-1]-1] = nmask[i,j]\n",
    "                        cnt[nmask[i,j-1]-1] = cnt[nmask[i,j]-1] + cnt[flag] + 1\n",
    "                        cnt[flag]=0\n",
    "                    else:\n",
    "                        flag+=1\n",
    "                        arr[flag] = flag+1\n",
    "                        nmask[i,j] = arr[flag]\n",
    "                        cnt[nmask[i,j]-1] +=1\n",
    "    cv2.imshow(\"frame\", nmask)\n",
    "    if cv2.waitKey(33)&0xFF == ord('q'):\n",
    "        break\n",
    "cap.release()\n",
    "cv2.destroyAllWindows()\n",
    "cv2.waitKey(1)"
   ]
  },
  {
   "cell_type": "code",
   "execution_count": 28,
   "id": "ahead-sandwich",
   "metadata": {
    "scrolled": false
   },
   "outputs": [
    {
     "name": "stdout",
     "output_type": "stream",
     "text": [
      "[{128, 129, 122, 124, 125}, {35, 37, 38, 39, 31}, {66, 70, 71, 73, 74, 75, 76, 80, 90, 97, 100, 104, 106, 109, 110, 111, 112, 114, 117, 121, 126}, {96, 99, 103, 77, 78, 84, 87, 88, 89, 91, 92, 95}, {32, 34, 36, 30}, {120, 118, 119}, {51, 53, 54, 58}, {33, 29}, {98, 101, 102, 105, 107, 94}, {16, 19, 13}, {27, 28}, {45, 46}, {24, 21}]\n",
      "[{122, 123, 125}, {65, 57, 54}, {129, 134}, {97, 99, 37, 102, 39, 104, 41, 42, 44, 79, 48, 113, 83}, {64, 96, 100, 75, 76, 77, 47, 81, 49, 85, 86, 90, 61, 94, 95}, {128, 133, 135, 138, 141}, {67, 63}, {80, 70, 71, 89}, {68, 36, 38, 107, 108, 110, 115, 88, 92, 30}, {105, 111, 103}, {18, 19}, {45, 46}, {12, 5}, {137, 131, 140}, {1, 2}, {73, 84}]\n",
      "[{58, 135, 72, 140, 46, 111, 50, 52, 150, 55, 56, 154, 120}, {4, 6}, {68, 70}, {105, 115, 109}, {129, 163, 133, 45, 142, 143, 48, 144, 47, 51, 147, 153, 59, 126}, {130, 66, 73, 74, 106, 78, 86, 121, 91, 93}, {193, 195, 188}, {97, 76, 77, 146, 149, 57, 90, 125}, {88, 84}, {64, 67}, {162, 164}, {35, 36}, {180, 174}, {184, 194, 181}, {112, 113, 102, 107}, {1, 2, 5}, {98, 92, 94}, {186, 191}, {89, 82}, {60, 61}]\n",
      "[{97, 99, 100, 75, 94, 90, 91, 93, 62}, {44, 46, 80, 81, 82, 53, 57, 127}, {32, 35}, {128, 65, 194, 68, 69, 73, 201, 78, 145, 148, 85, 87, 215, 220, 95, 225, 60, 175, 116, 123, 188}, {131, 137, 111, 147, 121, 154, 124, 159}, {16, 34, 20, 24, 26, 27}, {176, 161, 163, 181, 167, 171}, {226, 213, 218, 222}, {59, 70}, {12, 13}, {129, 66, 74, 140, 47, 50, 83, 56, 58}, {10, 11}, {203, 199}, {170, 165, 174}, {143, 138, 151}, {219, 214}, {76, 71}, {224, 223}, {1, 2, 5}, {211, 205}, {17, 21}, {180, 182}, {72, 77}]\n",
      "[{131, 139, 142, 82, 146, 85, 149, 151, 87, 153, 90, 91, 93, 158, 106, 110, 122, 126}, {129, 133, 127}, {104, 89, 92}, {32, 25, 30}, {120, 125, 111}, {33, 27, 23}, {168, 171}, {65, 61, 62}, {3, 4, 7}, {51, 52}, {66, 57, 58, 60}, {59, 63}, {96, 97, 102}, {105, 103}, {74, 76}, {170, 167}, {138, 140}, {83, 86}]\n",
      "[{4, 5, 8, 15, 16, 19, 23, 25, 26, 33, 36, 40, 45, 55, 56, 58, 59, 64, 68, 69, 70, 73, 74, 76, 77, 78, 79, 80, 83, 84, 85, 86, 87, 88, 89, 90, 91, 92, 93, 94, 95, 96, 101, 102, 107, 116, 121, 122, 128, 130, 134, 139, 141, 143, 146, 148, 150, 153, 156, 163, 166, 170, 171, 172, 174, 177, 182, 183, 184, 188, 189, 191, 194, 195, 199, 208, 213, 215, 218, 220, 222, 223, 226, 245, 246, 252, 254, 255}, {24, 22}, {241, 211, 229, 232, 219, 238}, {10, 11}, {233, 235}, {48, 49, 51, 53, 54, 46}, {209, 204}, {157, 159}, {193, 186}, {243, 239}, {253, 6}]\n",
      "[{4, 142, 145, 146, 19, 34, 163, 164, 41, 171, 44, 46, 47, 176, 49, 48, 51, 52, 53, 54, 182, 56, 179, 183, 59, 58, 190, 63, 64, 65, 66, 67, 69, 70, 71, 198, 75, 203, 205, 78, 81, 84, 85, 89, 90, 222, 225, 103, 104, 231, 107, 108, 109, 111, 113, 115, 121}, {193, 130, 133, 201, 140, 207, 211, 212, 152, 223, 162, 165, 167, 169, 233, 235, 234, 238, 239, 177, 123, 125}, {210, 199, 200, 206, 216}, {35, 36, 37, 38, 42, 55, 24, 27, 29, 30}, {128, 124}, {122, 119}, {16, 18}, {195, 191}, {98, 91}, {144, 143}]\n",
      "[{6, 70, 75, 12, 13, 14, 17, 21, 151, 217, 91, 156, 223, 160, 31, 34, 35, 100, 33, 36, 164, 40, 41, 42, 43, 44, 174, 48, 49, 50, 51, 244, 52, 248, 60}, {96, 108, 102, 104, 105, 92}, {192, 1, 4, 166, 207, 240, 177, 243, 215, 188}, {94, 95}, {163, 168, 172, 157}, {64, 65, 66, 61}, {11, 16, 19, 20, 22, 24, 25, 26, 27}, {8, 3}, {133, 199, 148, 216, 153, 126, 125, 158}, {202, 210}, {80, 81, 83}, {211, 212, 219, 205}, {113, 117}, {178, 182}, {241, 242}, {144, 142}, {224, 218}, {251, 255}, {97, 103}, {238, 239}]\n",
      "[{200, 209}, {193, 130, 3, 195, 4, 129, 135, 137, 206, 212, 216, 227, 230, 169, 235, 238, 181, 252, 125, 254, 127}, {225, 222}, {97, 100, 108, 81, 82, 113, 84, 114, 115, 87, 88, 121, 122, 91}, {65, 66, 67, 70, 72, 73, 74, 11, 10, 12, 83, 22, 86, 92, 30, 36, 54, 61}, {48, 35, 39}, {163, 165, 167, 168, 170, 178, 179, 184, 185, 186, 188}, {161, 156, 149}, {18, 21}, {96, 105, 102}, {243, 244}, {162, 166}, {62, 63}, {77, 78}, {41, 43}, {248, 250, 251}, {131, 134}, {232, 228}, {224, 229}, {99, 103}, {141, 142}, {202, 211, 203}, {107, 109}]\n",
      "[{4, 7, 9, 10, 11, 15, 18, 19, 20, 21, 22, 24, 153, 26, 27, 30, 31, 158, 159, 32, 34, 33, 165, 35, 36, 37, 41, 38, 40, 39, 42, 174, 46, 43, 181, 65, 70, 202, 75, 80, 211, 83, 85, 87, 220, 93, 224, 229, 240, 249, 254}, {242, 245}, {16, 244, 238, 239}, {128, 192, 134, 199, 136, 135, 139, 140, 207, 143, 209, 210, 145, 148, 147, 144, 215, 151, 217, 156, 221, 160, 226, 227, 166, 180, 119, 120, 121, 123, 124, 189}, {2, 252}, {113, 114, 102, 104, 107, 109}, {185, 182}, {57, 53}, {66, 68}, {8, 5, 6}, {17, 14}, {59, 60}, {99, 111}, {122, 117, 118}, {89, 94}]\n"
     ]
    },
    {
     "ename": "KeyboardInterrupt",
     "evalue": "",
     "output_type": "error",
     "traceback": [
      "\u001b[0;31m---------------------------------------------------------------------------\u001b[0m",
      "\u001b[0;31mKeyboardInterrupt\u001b[0m                         Traceback (most recent call last)",
      "\u001b[0;32m<ipython-input-28-46f27bc1afb9>\u001b[0m in \u001b[0;36m<module>\u001b[0;34m\u001b[0m\n\u001b[1;32m     10\u001b[0m     \u001b[0;32mfor\u001b[0m \u001b[0mi\u001b[0m \u001b[0;32min\u001b[0m \u001b[0mrange\u001b[0m\u001b[0;34m(\u001b[0m\u001b[0;36m576\u001b[0m\u001b[0;34m)\u001b[0m\u001b[0;34m:\u001b[0m\u001b[0;34m\u001b[0m\u001b[0;34m\u001b[0m\u001b[0m\n\u001b[1;32m     11\u001b[0m         \u001b[0;32mfor\u001b[0m \u001b[0mj\u001b[0m \u001b[0;32min\u001b[0m \u001b[0mrange\u001b[0m\u001b[0;34m(\u001b[0m\u001b[0;36m768\u001b[0m\u001b[0;34m)\u001b[0m\u001b[0;34m:\u001b[0m\u001b[0;34m\u001b[0m\u001b[0;34m\u001b[0m\u001b[0m\n\u001b[0;32m---> 12\u001b[0;31m             \u001b[0;32mif\u001b[0m\u001b[0;34m(\u001b[0m\u001b[0mnmask\u001b[0m\u001b[0;34m[\u001b[0m\u001b[0mi\u001b[0m\u001b[0;34m]\u001b[0m\u001b[0;34m[\u001b[0m\u001b[0mj\u001b[0m\u001b[0;34m]\u001b[0m\u001b[0;34m!=\u001b[0m\u001b[0;36m0\u001b[0m\u001b[0;34m)\u001b[0m\u001b[0;34m:\u001b[0m\u001b[0;34m\u001b[0m\u001b[0;34m\u001b[0m\u001b[0m\n\u001b[0m\u001b[1;32m     13\u001b[0m                 \u001b[0;32mif\u001b[0m\u001b[0;34m(\u001b[0m\u001b[0mi\u001b[0m\u001b[0;34m==\u001b[0m\u001b[0;36m0\u001b[0m \u001b[0;32mand\u001b[0m \u001b[0mj\u001b[0m \u001b[0;34m==\u001b[0m\u001b[0;36m0\u001b[0m\u001b[0;34m)\u001b[0m\u001b[0;34m:\u001b[0m\u001b[0;34m\u001b[0m\u001b[0;34m\u001b[0m\u001b[0m\n\u001b[1;32m     14\u001b[0m                     \u001b[0mflag\u001b[0m\u001b[0;34m+=\u001b[0m\u001b[0;36m1\u001b[0m\u001b[0;34m\u001b[0m\u001b[0;34m\u001b[0m\u001b[0m\n",
      "\u001b[0;31mKeyboardInterrupt\u001b[0m: "
     ]
    }
   ],
   "source": [
    "cap  = cv2.VideoCapture('vtest.avi')\n",
    "backSub = cv2.createBackgroundSubtractorMOG2()\n",
    "while cap.isOpened():\n",
    "    flag = 0\n",
    "    label = []\n",
    "    ret, frame = cap.read()\n",
    "    fgmask = backSub.apply(frame)\n",
    "    shadowval = backSub.getShadowValue()\n",
    "    ret, nmask = cv2.threshold(fgmask, shadowval, 255, cv2.THRESH_BINARY)\n",
    "    for i in range(576):\n",
    "        for j in range(768):\n",
    "            if(nmask[i][j]!=0):\n",
    "                if(i==0 and j ==0):\n",
    "                    flag+=1\n",
    "                    nmask[i][j] = flag\n",
    "                elif(i==0):\n",
    "                    if(nmask[i][j-1]!=0):\n",
    "                        nmask[i][j] = nmask[i][j-1]\n",
    "                    else:\n",
    "                        flag+=1\n",
    "                        nmask[i][j] = flag\n",
    "                elif(j==0):\n",
    "                    if(nmask[i-1][j]!=0):\n",
    "                        nmask[i][j] =nmask[i-1][j]\n",
    "                    else:\n",
    "                        flag+=1\n",
    "                        nmask[i][j] =flag\n",
    "                else:\n",
    "                    if(nmask[i-1][j] != 0 and nmask[i][j-1] != 0 and nmask[i-1][j] != nmask[i][j-1]):\n",
    "                        nmask[i][j] = min(nmask[i][j-1], nmask[i-1][j])\n",
    "                        s = set([nmask[i][j-1], nmask[i-1][j]])\n",
    "                        label.append(s)\n",
    "                    elif(nmask[i-1][j] != 0 and nmask[i][j-1] != 0):\n",
    "                        nmask[i][j] = nmask[i-1][j]\n",
    "                    elif(nmask[i][j-1]!=0):\n",
    "                        nmask[i][j] = nmask[i][j-1]\n",
    "                    elif(nmask[i-1][j]!=0):\n",
    "                        nmask[i][j] = nmask[i-1][j]\n",
    "\n",
    "                    else:\n",
    "                        flag+=1\n",
    "                        nmask[i][j] = flag\n",
    "    pool = set(map(frozenset, label))\n",
    "    groups = []\n",
    "    while pool:\n",
    "        groups.append(set(pool.pop()))\n",
    "        while True:\n",
    "            for candidate in pool:\n",
    "                if groups[-1] & candidate:\n",
    "                    groups[-1] |= candidate\n",
    "                    pool.remove(candidate)\n",
    "                    break\n",
    "            else:\n",
    "                break\n",
    "    for i in range(576):\n",
    "        for j in range(768):\n",
    "            if (nmask[i][j]!=0):\n",
    "                for m in range(len(groups)):\n",
    "                    if nmask[i][j] in groups[m]:\n",
    "                        nmask[i][j] = min(groups[m])\n",
    "    #cv2.imshow(\"frame\", nmask)\n",
    "    #if cv2.waitKey(33)&0xFF == ord('q'):\n",
    "        #break\n",
    "cap.release()\n",
    "cv2.destroyAllWindows()\n",
    "cv2.waitKey(1)"
   ]
  },
  {
   "cell_type": "code",
   "execution_count": 6,
   "id": "artificial-sociology",
   "metadata": {
    "scrolled": true
   },
   "outputs": [
    {
     "name": "stdout",
     "output_type": "stream",
     "text": [
      "[-440207, 0, 0, 0, 0, 0, 0, 0, 0, 0, 0, 0, 0, 0, 0, 0, 0, 0, 0, 0, 0, 0, 0, 0, 0, 0, 0, 0, 0, 0, 0, 0, 0, 0, 0, 0, 0, 0, 0, 0, 0, 0, 0, 0, 0, 0, 0, 0, 0, 0, 0, 0, 0, 0, 0, 0, 0, 0, 0, 0, 0, 0, 0, 0, 0, 0, 0, 0, 0, 0, 0, 0, 0, 0, 0, 0, 0, 0, 0, 0, 0, 0, 0, 0, 0, 0, 0, 0, 0, 0, 0, 0, 0, 0, 0, 0, 0, 0, 0, 0, 0, 0, 0, 0, 0, 0, 0, 0, 0, 0, 0, 0, 0, 0, 0, 0, 0, 0, 0, 0, 0, 0, 0, 0, 0, 0, 0, 0, 0, 0, 0, 0, 0, 0, 0, 0, 0, 0, 0, 0, 0, 0, 0, 0, 0, 0, 0, 0, 0, 0, 0, 0, 0, 0, 0, 0, 0, 0, 0, 0, 0, 0, 0, 0, 0, 0, 0, 0, 0, 0, 0, 0, 0, 0, 0, 0, 0, 0, 0, 0, 0, 0, 0, 0, 0, 0, 0, 0, 0, 0, 0, 0, 0, 0, 0, 0, 0, 0, 0, 0, 0, 0, 0, 0, 0, 0, 0, 0, 0, 0, 0, 0, 0, 0, 0, 0, 0, 0, 0, 0, 0, 0, 0, 0, 0, 0, 0, 0, 0, 0, 0, 0, 0, 0, 0, 0, 0, 0, 0, 0, 0, 0, 0, 0, 0, 0, 0, 0, 0, 0, 0, 0, 0, 0, 0, 0, 0, 0, 0, 0, 0, 0, 0, 0, 0, 0, 0, 0, 0, 0, 0, 0, 0, 0, 0, 0, 0, 0, 0, 0, 0, 0, 0, 0, 0, 0, 0, 0, 0, 0, 0, 0, 0, 0, 0, 0, 0, 0, 0, 0]\n",
      "[-440917, 0, 0, 0, 0, 0, 0, 0, 0, 0, 0, 0, 0, 0, 0, 0, 0, 0, 0, 0, 0, 0, 0, 0, 0, 0, 0, 0, 0, 0, 0, 0, 0, 0, 0, 0, 0, 0, 0, 0, 0, 0, 0, 0, 0, 0, 0, 0, 0, 0, 0, 0, 0, 0, 0, 0, 0, 0, 0, 0, 0, 0, 0, 0, 0, 0, 0, 0, 0, 0, 0, 0, 0, 0, 0, 0, 0, 0, 0, 0, 0, 0, 0, 0, 0, 0, 0, 0, 0, 0, 0, 0, 0, 0, 0, 0, 0, 0, 0, 0, 0, 0, 0, 0, 0, 0, 0, 0, 0, 0, 0, 0, 0, 0, 0, 0, 0, 0, 0, 0, 0, 0, 0, 0, 0, 0, 0, 0, 0, 0, 0, 0, 0, 0, 0, 0, 0, 0, 0, 0, 0, 0, 0, 0, 0, 0, 0, 0, 0, 0, 0, 0, 0, 0, 0, 0, 0, 0, 0, 0, 0, 0, 0, 0, 0, 0, 0, 0, 0, 0, 0, 0, 0, 0, 0, 0, 0, 0, 0, 0, 0, 0, 0, 0, 0, 0, 0, 0, 0, 0, 0, 0, 0, 0, 0, 0, 0, 0, 0, 0, 0, 0, 0, 0, 0, 0, 0, 0, 0, 0, 0, 0, 0, 0, 0, 0, 0, 0, 0, 0, 0, 0, 0, 0, 0, 0, 0, 0, 0, 0, 0, 0, 0, 0, 0, 0, 0, 0, 0, 0, 0, 0, 0, 0, 0, 0, 0, 0, 0, 0, 0, 0, 0, 0, 0, 0, 0, 0, 0, 0, 0, 0, 0, 0, 0, 0, 0, 0, 0, 0, 0, 0, 0, 0, 0, 0, 0, 0, 0, 0, 0, 0, 0, 0, 0, 0, 0, 0, 0, 0, 0, 0, 0, 0, 0, 0, 0, 0, 0, 0]\n"
     ]
    },
    {
     "ename": "KeyboardInterrupt",
     "evalue": "",
     "output_type": "error",
     "traceback": [
      "\u001b[0;31m---------------------------------------------------------------------------\u001b[0m",
      "\u001b[0;31mKeyboardInterrupt\u001b[0m                         Traceback (most recent call last)",
      "\u001b[0;32m<ipython-input-6-2970ca3ee63a>\u001b[0m in \u001b[0;36m<module>\u001b[0;34m\u001b[0m\n\u001b[1;32m     25\u001b[0m                     \u001b[0;32mfor\u001b[0m \u001b[0mk\u001b[0m \u001b[0;32min\u001b[0m \u001b[0mrange\u001b[0m\u001b[0;34m(\u001b[0m\u001b[0mi\u001b[0m\u001b[0;34m+\u001b[0m\u001b[0;36m1\u001b[0m\u001b[0;34m)\u001b[0m\u001b[0;34m:\u001b[0m\u001b[0;34m\u001b[0m\u001b[0;34m\u001b[0m\u001b[0m\n\u001b[1;32m     26\u001b[0m                         \u001b[0;32mfor\u001b[0m \u001b[0ml\u001b[0m \u001b[0;32min\u001b[0m \u001b[0mrange\u001b[0m\u001b[0;34m(\u001b[0m\u001b[0;36m768\u001b[0m\u001b[0;34m)\u001b[0m\u001b[0;34m:\u001b[0m\u001b[0;34m\u001b[0m\u001b[0;34m\u001b[0m\u001b[0m\n\u001b[0;32m---> 27\u001b[0;31m                             \u001b[0;32mif\u001b[0m \u001b[0;34m(\u001b[0m\u001b[0mnmask\u001b[0m\u001b[0;34m[\u001b[0m\u001b[0mk\u001b[0m\u001b[0;34m,\u001b[0m\u001b[0ml\u001b[0m\u001b[0;34m]\u001b[0m \u001b[0;34m==\u001b[0m \u001b[0mnmask\u001b[0m\u001b[0;34m[\u001b[0m\u001b[0mi\u001b[0m\u001b[0;34m-\u001b[0m\u001b[0;36m1\u001b[0m\u001b[0;34m,\u001b[0m\u001b[0mj\u001b[0m\u001b[0;34m]\u001b[0m\u001b[0;34m)\u001b[0m\u001b[0;34m:\u001b[0m\u001b[0;34m\u001b[0m\u001b[0;34m\u001b[0m\u001b[0m\n\u001b[0m\u001b[1;32m     28\u001b[0m                                 \u001b[0mnmask\u001b[0m\u001b[0;34m[\u001b[0m\u001b[0mk\u001b[0m\u001b[0;34m,\u001b[0m\u001b[0ml\u001b[0m\u001b[0;34m]\u001b[0m \u001b[0;34m=\u001b[0m \u001b[0mnmask\u001b[0m\u001b[0;34m[\u001b[0m\u001b[0mi\u001b[0m\u001b[0;34m,\u001b[0m\u001b[0mj\u001b[0m\u001b[0;34m-\u001b[0m\u001b[0;36m1\u001b[0m\u001b[0;34m]\u001b[0m\u001b[0;34m\u001b[0m\u001b[0;34m\u001b[0m\u001b[0m\n\u001b[1;32m     29\u001b[0m                 \u001b[0;32melif\u001b[0m \u001b[0;34m(\u001b[0m\u001b[0mnmask\u001b[0m\u001b[0;34m[\u001b[0m\u001b[0mi\u001b[0m\u001b[0;34m-\u001b[0m\u001b[0;36m1\u001b[0m\u001b[0;34m,\u001b[0m\u001b[0mj\u001b[0m\u001b[0;34m]\u001b[0m \u001b[0;34m!=\u001b[0m \u001b[0;36m0\u001b[0m\u001b[0;34m)\u001b[0m\u001b[0;34m:\u001b[0m\u001b[0;34m\u001b[0m\u001b[0;34m\u001b[0m\u001b[0m\n",
      "\u001b[0;31mKeyboardInterrupt\u001b[0m: "
     ]
    }
   ],
   "source": [
    "flag = 1\n",
    "\n",
    "cap  = cv2.VideoCapture('vtest.avi')\n",
    "backSub = cv2.createBackgroundSubtractorMOG2()\n",
    "\n",
    "while cap.isOpened():\n",
    "    A=[0]*300\n",
    "    ret, frame = cap.read()\n",
    "\n",
    "    fgmask = backSub.apply(frame)\n",
    "    shadowval = backSub.getShadowValue()\n",
    "    ret, nmask = cv2.threshold(fgmask, shadowval, 255, cv2.THRESH_BINARY)\n",
    "    for i in range(576):\n",
    "        for j in range(768):\n",
    "            if(nmask[i,j] != 0):\n",
    "                if(i == 0 or j ==0):\n",
    "                    if(nmask[i,j] != 0):\n",
    "                        flag +=1\n",
    "                        nmask[i,j] = flag\n",
    "                elif (nmask[i-1,j]==0 and nmask[i,j-1] ==0):\n",
    "                    flag +=1\n",
    "                    nmask[i,j] = flag\n",
    "                elif (nmask[i-1,j]!=0 and nmask[i,j-1]!=0 and nmask[i-1,j] != nmask[i,j-1]):\n",
    "                    nmask[i,j] = nmask[i-1,j]\n",
    "                    for k in range(i+1):\n",
    "                        for l in range(768):\n",
    "                            if (nmask[k,l] == nmask[i-1,j]):\n",
    "                                nmask[k,l] = nmask[i,j-1]\n",
    "                elif (nmask[i-1,j] != 0):\n",
    "                    nmask[i,j] = nmask[i-1,j]\n",
    "                elif (nmask[i,j-1] != 0):\n",
    "                    nmask[i,j] = nmask[i,j-1]\n",
    "    for i in range(576):\n",
    "        for j in range(768):\n",
    "            if nmask[i,j]!=0:\n",
    "                A[nmask[i,j]]+=1\n",
    "    for i in range(576):\n",
    "        for j in range(768):\n",
    "            if (A[nmask[i,j]]<1000):\n",
    "                A[nmask[i,j]]-=1\n",
    "                nmask[i,j]=0\n",
    "    print(A)\n",
    "    A=[0]*300\n",
    "    flag =1\n",
    "    #cv2.imshow(\"frame\", nmask)\n",
    "    if cv2.waitKey(33)&0xFF == ord('q'):\n",
    "        break\n",
    "cap.release()\n",
    "cv2.destroyAllWindows()\n",
    "cv2.waitKey(1)"
   ]
  }
 ],
 "metadata": {
  "kernelspec": {
   "display_name": "Python 3",
   "language": "python",
   "name": "python3"
  },
  "language_info": {
   "codemirror_mode": {
    "name": "ipython",
    "version": 3
   },
   "file_extension": ".py",
   "mimetype": "text/x-python",
   "name": "python",
   "nbconvert_exporter": "python",
   "pygments_lexer": "ipython3",
   "version": "3.7.4"
  }
 },
 "nbformat": 4,
 "nbformat_minor": 5
}
