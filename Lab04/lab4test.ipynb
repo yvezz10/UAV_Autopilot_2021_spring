{
 "cells": [
  {
   "cell_type": "code",
   "execution_count": 1,
   "id": "criminal-result",
   "metadata": {},
   "outputs": [],
   "source": [
    "import cv2\n",
    "import numpy as np"
   ]
  },
  {
   "cell_type": "code",
   "execution_count": 2,
   "id": "false-radio",
   "metadata": {
    "scrolled": true
   },
   "outputs": [
    {
     "data": {
      "text/plain": [
       "-1"
      ]
     },
     "execution_count": 2,
     "metadata": {},
     "output_type": "execute_result"
    }
   ],
   "source": [
    "img = cv2.imread('warp.jpg')\n",
    "#capCorner = np.float32([[0,0], [0,719], [1279,719], [1279,0]])\n",
    "#imgCorner = np.float32([[241,201], [258,630],[433,761],[463,246]])\n",
    "#perMatrix = cv2.getPerspectiveTransform(capCorner, imgCorner)\n",
    "#inverse = np.linalg.inv(perMatrix)\n",
    "def inSquare(x,y):\n",
    "    if((45*x-222*y+33777)<0 and (131*x-175*y+76452)>0): \n",
    "        if((429*x-17*y-99972)>0 and (515*x+30*y-245825)<0):\n",
    "            return True\n",
    "for i in range(201,761):\n",
    "    for j in range(241,463):\n",
    "        if inSquare(j,i) == True:\n",
    "            img[i][j] = (255,255,255)\n",
    "cv2.imshow('test',img)\n",
    "cv2.waitKey(0)\n",
    "cv2.destroyAllWindows()\n",
    "cv2.waitKey(1)"
   ]
  }
 ],
 "metadata": {
  "kernelspec": {
   "display_name": "Python 3",
   "language": "python",
   "name": "python3"
  },
  "language_info": {
   "codemirror_mode": {
    "name": "ipython",
    "version": 3
   },
   "file_extension": ".py",
   "mimetype": "text/x-python",
   "name": "python",
   "nbconvert_exporter": "python",
   "pygments_lexer": "ipython3",
   "version": "3.7.4"
  }
 },
 "nbformat": 4,
 "nbformat_minor": 5
}
