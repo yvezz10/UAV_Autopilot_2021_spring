{
 "cells": [
  {
   "cell_type": "code",
   "execution_count": 1,
   "id": "sunset-clinic",
   "metadata": {},
   "outputs": [],
   "source": [
    "import cv2\n",
    "import numpy as np"
   ]
  },
  {
   "cell_type": "code",
   "execution_count": 3,
   "id": "dynamic-museum",
   "metadata": {
    "scrolled": true
   },
   "outputs": [],
   "source": [
    "cap = cv2.VideoCapture(1)\n",
    "img = cv2.imread('warp.jpg')\n",
    "capCorner = np.float32([[0,0], [0,719], [1279,719], [1279,0]])\n",
    "imgCorner = np.float32([[237,193], [251,626],[429,758],[457,236]])\n",
    "while(True):\n",
    "    ret, frame = cap.read()\n",
    "    perMatrix = cv2.getPerspectiveTransform(capCorner, imgCorner)\n",
    "    inverse = np.linalg.inv(perMatrix)\n",
    "    a = frame.shape\n",
    "    break\n",
    "    #cv2.imshow('frame', frame)\n",
    "    #if (cv2.waitKey(33)&0xFF == ord('q')):\n",
    "        #break\n",
    "    #cv2.getPerspectiveTransform(cap_corner, img_corner)"
   ]
  },
  {
   "cell_type": "code",
   "execution_count": 4,
   "id": "consolidated-cabin",
   "metadata": {},
   "outputs": [
    {
     "data": {
      "text/plain": [
       "(960, 1280, 3)"
      ]
     },
     "execution_count": 4,
     "metadata": {},
     "output_type": "execute_result"
    }
   ],
   "source": [
    "a"
   ]
  }
 ],
 "metadata": {
  "kernelspec": {
   "display_name": "Python 3",
   "language": "python",
   "name": "python3"
  },
  "language_info": {
   "codemirror_mode": {
    "name": "ipython",
    "version": 3
   },
   "file_extension": ".py",
   "mimetype": "text/x-python",
   "name": "python",
   "nbconvert_exporter": "python",
   "pygments_lexer": "ipython3",
   "version": "3.7.4"
  }
 },
 "nbformat": 4,
 "nbformat_minor": 5
}
