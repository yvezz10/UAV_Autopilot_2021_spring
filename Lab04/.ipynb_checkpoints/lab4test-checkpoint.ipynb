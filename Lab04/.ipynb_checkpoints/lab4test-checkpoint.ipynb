{
 "cells": [
  {
   "cell_type": "code",
   "execution_count": 51,
   "id": "criminal-result",
   "metadata": {},
   "outputs": [],
   "source": [
    "import cv2\n",
    "import numpy as np"
   ]
  },
  {
   "cell_type": "code",
   "execution_count": 59,
   "id": "false-radio",
   "metadata": {
    "scrolled": true
   },
   "outputs": [
    {
     "data": {
      "text/plain": [
       "array([[ 7.49867247e+00, -2.97150191e-01, -1.74745288e+03],\n",
       "       [-2.78456465e-01,  1.37371856e+00, -2.09009423e+02],\n",
       "       [ 1.41098190e-03, -4.91666194e-04,  7.58778268e-01]])"
      ]
     },
     "execution_count": 59,
     "metadata": {},
     "output_type": "execute_result"
    }
   ],
   "source": [
    "#cap = cv2.VideoCapture(0)\n",
    "img = cv2.imread('warp.jpg')\n",
    "capCorner = np.float32([[0,0], [0,719], [1279,719], [1279,0]])\n",
    "imgCorner = np.float32([[241,201], [258,630],[433,761],[463,246]])\n",
    "perMatrix = cv2.getPerspectiveTransform(capCorner, imgCorner)\n",
    "inverse = np.linalg.inv(perMatrix)\n",
    "\n",
    "inverse"
   ]
  },
  {
   "cell_type": "code",
   "execution_count": 62,
   "id": "composed-avenue",
   "metadata": {},
   "outputs": [
    {
     "data": {
      "text/plain": [
       "array([[0., 0., 0., ..., 0., 0., 0.],\n",
       "       [0., 0., 0., ..., 0., 0., 0.],\n",
       "       [0., 0., 0., ..., 0., 0., 0.],\n",
       "       ...,\n",
       "       [0., 0., 0., ..., 0., 0., 0.],\n",
       "       [0., 0., 0., ..., 0., 0., 0.],\n",
       "       [0., 0., 0., ..., 0., 0., 0.]], dtype=float32)"
      ]
     },
     "execution_count": 62,
     "metadata": {},
     "output_type": "execute_result"
    }
   ],
   "source": []
  }
 ],
 "metadata": {
  "kernelspec": {
   "display_name": "Python 3",
   "language": "python",
   "name": "python3"
  },
  "language_info": {
   "codemirror_mode": {
    "name": "ipython",
    "version": 3
   },
   "file_extension": ".py",
   "mimetype": "text/x-python",
   "name": "python",
   "nbconvert_exporter": "python",
   "pygments_lexer": "ipython3",
   "version": "3.7.4"
  }
 },
 "nbformat": 4,
 "nbformat_minor": 5
}
