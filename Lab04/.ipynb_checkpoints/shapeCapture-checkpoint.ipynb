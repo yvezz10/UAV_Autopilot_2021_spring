{
 "cells": [
  {
   "cell_type": "code",
   "execution_count": 1,
   "id": "fluid-comedy",
   "metadata": {},
   "outputs": [],
   "source": [
    "import numpy as np\n",
    "import cv2"
   ]
  },
  {
   "cell_type": "code",
   "execution_count": null,
   "id": "liable-provider",
   "metadata": {
    "scrolled": false
   },
   "outputs": [],
   "source": [
    "cap = cv2.VideoCapture(1)\n",
    "img = cv2.imread('warp.jpg')\n",
    "capCorner = np.float32([[0,0], [0,719], [1279,719], [1279,0]])\n",
    "imgCorner = np.float32([[241,201], [258,630],[433,761],[573,246]])#第4個點應該是[463,246]\n",
    "perMatrix = cv2.getPerspectiveTransform(capCorner, imgCorner) #求轉換矩陣\n",
    "inverse = np.linalg.inv(perMatrix)                            #求反矩陣\n",
    "def inSquare(x,y):\n",
    "    if((45*x-222*y+33777)<0 and (131*x-175*y+76452)>0): \n",
    "        if((429*x-17*y-99972)>0 and (515*x+30*y-245825)<0):\n",
    "            return True\n",
    "while(True):\n",
    "    ret, frame = cap.read()\n",
    "    new = np.zeros([937,750,3],dtype=np.uint8)\n",
    "    new = img\n",
    "    for i in range(201,761):\n",
    "        for j in range(241,463):\n",
    "            if inSquare(j,i) == True:\n",
    "                x1 = inverse[0][0]*j + inverse[0][1]*i + inverse[0][2]\n",
    "                y1 = inverse[1][0]*j + inverse[1][1]*i + inverse[1][2]\n",
    "                if(x1>1279 or y1 >719):\n",
    "                    new[i][j] = img[i][j]\n",
    "                else: #雙線性\n",
    "                    p1 = (x1- int(x1))*frame[int(y1)][int(x1)+1] + (1 - x1 + int(x1))*frame[int(y1)][int(x1)]\n",
    "                    p2 = (x1- int(x1))*frame[int(y1)+1][int(x1)+1] + (1 - x1 + int(x1))*frame[int(y1)+1][int(x1)]\n",
    "                    px = (y1- int(y1))*p2 + (1 - y1 + int(y1))*p1\n",
    "                    new[i][j] = px\n",
    "            else:\n",
    "                new[i][j] = img[i][j]\n",
    "    #show result\n",
    "    cv2.imshow(\"frame\", new)\n",
    "    if (cv2.waitKey(33)&0xFF == ord('q')):\n",
    "        break\n",
    "cap.release()\n",
    "cv2.destroyAllWindows()\n",
    "cv2.waitKey(1)"
   ]
  }
 ],
 "metadata": {
  "kernelspec": {
   "display_name": "Python 3",
   "language": "python",
   "name": "python3"
  },
  "language_info": {
   "codemirror_mode": {
    "name": "ipython",
    "version": 3
   },
   "file_extension": ".py",
   "mimetype": "text/x-python",
   "name": "python",
   "nbconvert_exporter": "python",
   "pygments_lexer": "ipython3",
   "version": "3.7.4"
  }
 },
 "nbformat": 4,
 "nbformat_minor": 5
}
