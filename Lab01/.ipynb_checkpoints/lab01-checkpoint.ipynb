{
 "cells": [
  {
   "cell_type": "markdown",
   "id": "objective-uruguay",
   "metadata": {},
   "source": [
    "翻轉圖片"
   ]
  },
  {
   "cell_type": "code",
   "execution_count": 1,
   "id": "extended-burner",
   "metadata": {},
   "outputs": [],
   "source": [
    "import cv2\n",
    "import numpy as np\n",
    "\n",
    "img = cv2.imread('kobe.jpg')\n",
    "h, w = img.shape[:2]\n"
   ]
  },
  {
   "cell_type": "code",
   "execution_count": 3,
   "id": "grand-mobile",
   "metadata": {},
   "outputs": [],
   "source": [
    "new = np.zeros([h,w,3],dtype=np.uint8)\n",
    "for i in range(h):\n",
    "    for j in range(w):\n",
    "        new[i,j] = img[i,w-j-1]"
   ]
  },
  {
   "cell_type": "code",
   "execution_count": 4,
   "id": "executive-tokyo",
   "metadata": {
    "scrolled": true
   },
   "outputs": [
    {
     "data": {
      "text/plain": [
       "-1"
      ]
     },
     "execution_count": 4,
     "metadata": {},
     "output_type": "execute_result"
    }
   ],
   "source": [
    "cv2.imshow('result', new)\n",
    "cv2.waitKey(0)\n",
    "cv2.destroyAllWindows()\n",
    "cv2.waitKey(1)"
   ]
  },
  {
   "cell_type": "markdown",
   "id": "latter-glory",
   "metadata": {},
   "source": [
    "旋轉圖片"
   ]
  },
  {
   "cell_type": "code",
   "execution_count": 98,
   "id": "magnetic-service",
   "metadata": {
    "scrolled": true
   },
   "outputs": [],
   "source": [
    "img2 = cv2.imread('curry.jpg')\n",
    "h2, w2 = img2.shape[:2]"
   ]
  },
  {
   "cell_type": "code",
   "execution_count": 9,
   "id": "approximate-marking",
   "metadata": {},
   "outputs": [],
   "source": [
    "new2 = np.zeros([w2,h2,3],dtype=np.uint8)\n",
    "for i in range(w2):\n",
    "    for j in range(h2):\n",
    "        new2[i,j] = img2[j,-i]\n"
   ]
  },
  {
   "cell_type": "code",
   "execution_count": 10,
   "id": "common-vintage",
   "metadata": {},
   "outputs": [
    {
     "data": {
      "text/plain": [
       "-1"
      ]
     },
     "execution_count": 10,
     "metadata": {},
     "output_type": "execute_result"
    }
   ],
   "source": [
    "cv2.imshow('result2', new2)\n",
    "cv2.waitKey(0)\n",
    "cv2.destroyAllWindows()\n",
    "cv2.waitKey(1)"
   ]
  },
  {
   "cell_type": "markdown",
   "id": "dietary-medicaid",
   "metadata": {},
   "source": [
    "鄰近差值"
   ]
  },
  {
   "cell_type": "code",
   "execution_count": 5,
   "id": "amended-agency",
   "metadata": {},
   "outputs": [],
   "source": [
    "img3 = cv2.imread('IU.png')\n",
    "h3, w3 = img3.shape[:2]"
   ]
  },
  {
   "cell_type": "code",
   "execution_count": 6,
   "id": "comparable-object",
   "metadata": {},
   "outputs": [],
   "source": [
    "new3 = np.zeros([h3*3,w3*3,3],dtype=np.uint8)\n",
    "for i in range(h3*3):\n",
    "    for j in range(w3*3):\n",
    "        x = round(j/3)\n",
    "        if (x>w3-1):\n",
    "            x = w3-1\n",
    "        y = round(i/3)\n",
    "        if (y>h3-1):\n",
    "            y = h3-1\n",
    "        new3[i,j] = img3[y,x]\n"
   ]
  },
  {
   "cell_type": "code",
   "execution_count": 104,
   "id": "consolidated-california",
   "metadata": {},
   "outputs": [
    {
     "data": {
      "text/plain": [
       "-1"
      ]
     },
     "execution_count": 104,
     "metadata": {},
     "output_type": "execute_result"
    }
   ],
   "source": [
    "cv2.imshow('result3', new3)\n",
    "cv2.waitKey(0)\n",
    "cv2.destroyAllWindows()\n",
    "cv2.waitKey(1)"
   ]
  },
  {
   "cell_type": "markdown",
   "id": "single-albany",
   "metadata": {},
   "source": [
    "雙線性放大"
   ]
  },
  {
   "cell_type": "code",
   "execution_count": 105,
   "id": "martial-spectrum",
   "metadata": {},
   "outputs": [],
   "source": [
    "img4 = cv2.imread('IU.png')\n",
    "h4, w4 = img4.shape[:2]"
   ]
  },
  {
   "cell_type": "code",
   "execution_count": 106,
   "id": "increased-right",
   "metadata": {},
   "outputs": [],
   "source": [
    "new4 = np.zeros([h4*3,w4*3,3],dtype=np.uint8)\n",
    "for i in range(h4*3):\n",
    "    for j in range(w4*3):\n",
    "        x = int(j/3)\n",
    "        y = int(i/3)\n",
    "        if(x ==w4-1 or y == h4-1):\n",
    "            break\n",
    "        else:\n",
    "            p1 = ((j-x*3)/3)*img4[y,x+1] + (((x+1)*3-j)/3)*img4[y,x]\n",
    "            p2 = ((j-x*3)/3)*img4[y+1,x+1] + (((x+1)*3-j)/3)*img4[y+1,x]\n",
    "            px = ((i-y*3)/3)*(p2) + (((y+1)*3-i)/3)*(p1)\n",
    "        new4[i,j] = px"
   ]
  },
  {
   "cell_type": "code",
   "execution_count": 108,
   "id": "suspected-intensity",
   "metadata": {},
   "outputs": [
    {
     "data": {
      "text/plain": [
       "-1"
      ]
     },
     "execution_count": 108,
     "metadata": {},
     "output_type": "execute_result"
    }
   ],
   "source": [
    "cv2.imshow('result4', new4)\n",
    "cv2.waitKey(0)\n",
    "cv2.destroyAllWindows()\n",
    "cv2.waitKey(1)"
   ]
  }
 ],
 "metadata": {
  "kernelspec": {
   "display_name": "Python 3",
   "language": "python",
   "name": "python3"
  },
  "language_info": {
   "codemirror_mode": {
    "name": "ipython",
    "version": 3
   },
   "file_extension": ".py",
   "mimetype": "text/x-python",
   "name": "python",
   "nbconvert_exporter": "python",
   "pygments_lexer": "ipython3",
   "version": "3.7.4"
  }
 },
 "nbformat": 4,
 "nbformat_minor": 5
}
