{
 "cells": [
  {
   "cell_type": "code",
   "execution_count": 17,
   "id": "lesbian-insulin",
   "metadata": {},
   "outputs": [
    {
     "name": "stdout",
     "output_type": "stream",
     "text": [
      "563 1000\n"
     ]
    }
   ],
   "source": [
    "import cv2\n",
    "import numpy as np\n",
    "\n",
    "img = cv2.imread('mj.tif')\n",
    "h, w = img.shape[:2]\n",
    "gray = cv2.cvtColor(img, cv2.COLOR_BGR2GRAY)\n",
    "print(h,w)"
   ]
  },
  {
   "cell_type": "code",
   "execution_count": 18,
   "id": "caroline-geography",
   "metadata": {},
   "outputs": [
    {
     "name": "stdout",
     "output_type": "stream",
     "text": [
      "[137774, 122295, 151455, 75947, 25669, 18517, 17027, 14316]\n"
     ]
    }
   ],
   "source": [
    "a=[0,0,0,0,0,0,0,0]\n",
    "for i in range(h):\n",
    "    for j in range(w):\n",
    "        k=gray[i,j]\n",
    "        p = int(k/32)\n",
    "        a[p]+=1\n",
    "print(a)"
   ]
  },
  {
   "cell_type": "code",
   "execution_count": 34,
   "id": "apparent-satin",
   "metadata": {},
   "outputs": [
    {
     "name": "stdout",
     "output_type": "stream",
     "text": [
      "[0.24471403197158081, 0.4619342806394316, 0.7309484902309059, 0.8658454706927176, 0.9114387211367673, 0.9443285968028419, 0.9745719360568383, 1.0]\n"
     ]
    }
   ],
   "source": [
    "pr=[0,0,0,0,0,0,0,0]\n",
    "s=0\n",
    "for i in range(8):\n",
    "    s = s+ a[i]\n",
    "    pr[i] = s/563000\n",
    "print(pr)"
   ]
  },
  {
   "cell_type": "code",
   "execution_count": 36,
   "id": "exotic-rouge",
   "metadata": {},
   "outputs": [
    {
     "name": "stdout",
     "output_type": "stream",
     "text": [
      "[1, 3, 5, 6, 6, 6, 6, 7]\n"
     ]
    }
   ],
   "source": [
    "output=[0,0,0,0,0,0,0,0]\n",
    "for i in range(8):\n",
    "    output[i] = int(pr[i]*7)\n",
    "print(output)"
   ]
  },
  {
   "cell_type": "code",
   "execution_count": null,
   "id": "fresh-longer",
   "metadata": {},
   "outputs": [],
   "source": [
    "c = [16,16,0,0,0,0,0,0]\n"
   ]
  },
  {
   "cell_type": "code",
   "execution_count": 46,
   "id": "appointed-column",
   "metadata": {},
   "outputs": [],
   "source": [
    "new = np.zeros([h,w,1],dtype=np.uint8)\n",
    "for i in range(h):\n",
    "    for j in range(w):\n",
    "        new[i,j] = output[int(gray[i,j]/32)]*32+31"
   ]
  },
  {
   "cell_type": "code",
   "execution_count": 47,
   "id": "champion-combat",
   "metadata": {},
   "outputs": [
    {
     "data": {
      "text/plain": [
       "-1"
      ]
     },
     "execution_count": 47,
     "metadata": {},
     "output_type": "execute_result"
    }
   ],
   "source": [
    "cv2.imshow('result', new)\n",
    "cv2.waitKey(0)\n",
    "cv2.destroyAllWindows()\n",
    "cv2.waitKey(1)"
   ]
  }
 ],
 "metadata": {
  "kernelspec": {
   "display_name": "Python 3",
   "language": "python",
   "name": "python3"
  },
  "language_info": {
   "codemirror_mode": {
    "name": "ipython",
    "version": 3
   },
   "file_extension": ".py",
   "mimetype": "text/x-python",
   "name": "python",
   "nbconvert_exporter": "python",
   "pygments_lexer": "ipython3",
   "version": "3.7.4"
  }
 },
 "nbformat": 4,
 "nbformat_minor": 5
}
