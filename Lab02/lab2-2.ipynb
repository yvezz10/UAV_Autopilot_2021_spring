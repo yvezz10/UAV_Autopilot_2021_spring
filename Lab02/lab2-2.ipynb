{
 "cells": [
  {
   "cell_type": "code",
   "execution_count": 1,
   "id": "cooperative-artwork",
   "metadata": {},
   "outputs": [
    {
     "name": "stdout",
     "output_type": "stream",
     "text": [
      "534 897\n"
     ]
    }
   ],
   "source": [
    "import cv2\n",
    "import numpy as np\n",
    "\n",
    "img = cv2.imread('input.jpg')\n",
    "h, w = img.shape[:2]\n",
    "gray = cv2.cvtColor(img, cv2.COLOR_BGR2GRAY)\n",
    "print(h,w)\n",
    "#478998"
   ]
  },
  {
   "cell_type": "code",
   "execution_count": 2,
   "id": "local-transmission",
   "metadata": {},
   "outputs": [
    {
     "name": "stdout",
     "output_type": "stream",
     "text": [
      "[135490, 7876, 4512, 3880, 3223, 2983, 3195, 2143, 1887, 1683, 1423, 1272, 1249, 1065, 1092, 976, 1000, 1152, 1439, 1936, 6739, 1913, 1433, 973, 739, 625, 560, 508, 479, 492, 483, 477, 459, 564, 530, 574, 634, 735, 684, 735, 841, 1006, 1207, 4010, 1357, 985, 800, 647, 561, 459, 464, 400, 377, 369, 337, 330, 306, 305, 331, 318, 371, 394, 402, 455, 596, 451, 465, 387, 398, 389, 412, 357, 334, 299, 282, 296, 277, 296, 289, 310, 324, 353, 385, 423, 438, 475, 492, 591, 654, 810, 1163, 1519, 18437, 1608, 1226, 860, 756, 578, 487, 435, 378, 356, 311, 307, 335, 274, 270, 291, 301, 342, 322, 314, 433, 458, 511, 518, 591, 1107, 772, 501, 543, 485, 455, 454, 483, 463, 456, 471, 469, 491, 520, 551, 561, 868, 551, 611, 615, 577, 619, 696, 795, 970, 1168, 5471, 1264, 940, 925, 808, 1073, 720, 698, 637, 592, 632, 579, 574, 557, 578, 639, 633, 736, 3368, 664, 592, 541, 512, 464, 435, 383, 414, 365, 359, 348, 373, 358, 353, 342, 374, 431, 439, 530, 604, 713, 830, 1020, 1263, 2284, 1715, 1846, 7542, 1882, 1453, 1239, 1151, 1103, 1048, 1550, 1033, 874, 819, 762, 717, 727, 762, 852, 934, 977, 1539, 1031, 1059, 1111, 1241, 1364, 1612, 4341, 1492, 1254, 1029, 927, 871, 796, 716, 708, 784, 871, 1158, 1288, 5395, 1395, 1759, 1089, 1013, 1009, 953, 1043, 2743, 1000, 830, 783, 776, 745, 770, 805, 878, 887, 1020, 1115, 1214, 1382, 1625, 1930, 2387, 3118, 4039, 5247, 64195]\n"
     ]
    }
   ],
   "source": [
    "a = [0] * 256\n",
    "for i in range(h):\n",
    "    for j in range(w):\n",
    "        k=gray[i,j]\n",
    "        p = int(k)\n",
    "        a[p]+=1\n",
    "print(a)"
   ]
  },
  {
   "cell_type": "code",
   "execution_count": 3,
   "id": "ethical-postcard",
   "metadata": {},
   "outputs": [
    {
     "name": "stdout",
     "output_type": "stream",
     "text": [
      "[0, 7876, 9024, 11640, 12892, 14915, 19170, 15001, 15096, 15147, 14230, 13992, 14988, 13845, 15288, 14640, 16000, 19584, 25902, 36784, 134780, 40173, 31526, 22379, 17736, 15625, 14560, 13716, 13412, 14268, 14490, 14787, 14688, 18612, 18020, 20090, 22824, 27195, 25992, 28665, 33640, 41246, 50694, 172430, 59708, 44325, 36800, 30409, 26928, 22491, 23200, 20400, 19604, 19557, 18198, 18150, 17136, 17385, 19198, 18762, 22260, 24034, 24924, 28665, 38144, 29315, 30690, 25929, 27064, 26841, 28840, 25347, 24048, 21827, 20868, 22200, 21052, 22792, 22542, 24490, 25920, 28593, 31570, 35109, 36792, 40375, 42312, 51417, 57552, 72090, 104670, 138229, 1696204, 149544, 115244, 81700, 72576, 56066, 47726, 43065, 37800, 35956, 31722, 31621, 34840, 28770, 28620, 31137, 32508, 37278, 35420, 34854, 48496, 51754, 58254, 59570, 68556, 129519, 91096, 59619, 65160, 58685, 55510, 55842, 59892, 57875, 57456, 59817, 60032, 63339, 67600, 72181, 74052, 115444, 73834, 82485, 83640, 79049, 85422, 96744, 111300, 136770, 165856, 782353, 182016, 136300, 135050, 118776, 158804, 107280, 104700, 96187, 89984, 96696, 89166, 88970, 86892, 90746, 100962, 100647, 117760, 542248, 107568, 96496, 88724, 84480, 77024, 72645, 64344, 69966, 62050, 61389, 59856, 64529, 62292, 61775, 60192, 66198, 76718, 78581, 95400, 109324, 129766, 151890, 187680, 233655, 424824, 320705, 347048, 1425438, 357580, 277523, 237888, 222143, 213982, 204360, 303800, 203501, 173052, 162981, 152400, 144117, 146854, 154686, 173808, 191470, 201262, 318573, 214448, 221331, 233310, 261851, 289168, 343356, 928974, 320780, 270864, 223293, 202086, 190749, 175120, 158236, 157176, 174832, 195104, 260550, 291088, 1224665, 318060, 402811, 250470, 234003, 234088, 222049, 244062, 644605, 236000, 196710, 186354, 185464, 178800, 185570, 194810, 213354, 216428, 249900, 274290, 299858, 342736, 404625, 482500, 599137, 785736, 1021867, 1332738, 16369725]\n"
     ]
    }
   ],
   "source": [
    "avg = [0]*256\n",
    "aavg = 0 \n",
    "for i in range(256):\n",
    "    avg[i] = a[i]*i\n",
    "for j in range(256):\n",
    "    aavg = aavg +avg[i]\n",
    "print(avg)"
   ]
  },
  {
   "cell_type": "code",
   "execution_count": 4,
   "id": "fossil-jones",
   "metadata": {},
   "outputs": [
    {
     "name": "stdout",
     "output_type": "stream",
     "text": [
      "478998 52433619\n"
     ]
    }
   ],
   "source": [
    "sum_of_a = 0\n",
    "sum_of_avg = 0\n",
    "for i in range(256):\n",
    "    sum_of_a = sum_of_a+a[i]\n",
    "    sum_of_avg = sum_of_avg+avg[i]\n",
    "print(sum_of_a,sum_of_avg)"
   ]
  },
  {
   "cell_type": "code",
   "execution_count": 5,
   "id": "postal-prompt",
   "metadata": {},
   "outputs": [
    {
     "name": "stdout",
     "output_type": "stream",
     "text": [
      "118\n"
     ]
    }
   ],
   "source": [
    "max_num = 0\n",
    "flag = 0\n",
    "target_number = 0\n",
    "current_nb = 0\n",
    "current_no = sum_of_a\n",
    "current_ub = 0\n",
    "current_uo = sum_of_avg\n",
    "#culculate threshold from 0-255\n",
    "for i in range(255):\n",
    "    current_nb = current_nb+a[i]\n",
    "    current_no = current_no-a[i]\n",
    "    current_ub = current_ub+avg[i]\n",
    "    current_uo = current_uo-avg[i]\n",
    "    target_number = current_nb*current_no*(current_ub/current_nb-current_uo/current_no)*(current_ub/current_nb-current_uo/current_no)\n",
    "    if(target_number>max_num):\n",
    "        max_num=target_number\n",
    "        flag = i\n",
    "print(flag)"
   ]
  },
  {
   "cell_type": "code",
   "execution_count": 18,
   "id": "wicked-gateway",
   "metadata": {},
   "outputs": [],
   "source": [
    "new = np.zeros([h,w,1],dtype=np.uint8)\n",
    "for i in range(h):\n",
    "    for j in range(w):\n",
    "        if (gray[i,j]>118):\n",
    "            new[i,j]=255\n",
    "        else:\n",
    "            new[i,j]=0"
   ]
  },
  {
   "cell_type": "code",
   "execution_count": 19,
   "id": "fewer-mistake",
   "metadata": {},
   "outputs": [
    {
     "data": {
      "text/plain": [
       "-1"
      ]
     },
     "execution_count": 19,
     "metadata": {},
     "output_type": "execute_result"
    }
   ],
   "source": [
    "cv2.imshow('result', new)\n",
    "cv2.waitKey(0)\n",
    "cv2.destroyAllWindows()\n",
    "cv2.waitKey(1)"
   ]
  },
  {
   "cell_type": "code",
   "execution_count": null,
   "id": "complicated-interpretation",
   "metadata": {},
   "outputs": [],
   "source": []
  }
 ],
 "metadata": {
  "kernelspec": {
   "display_name": "Python 3",
   "language": "python",
   "name": "python3"
  },
  "language_info": {
   "codemirror_mode": {
    "name": "ipython",
    "version": 3
   },
   "file_extension": ".py",
   "mimetype": "text/x-python",
   "name": "python",
   "nbconvert_exporter": "python",
   "pygments_lexer": "ipython3",
   "version": "3.7.4"
  }
 },
 "nbformat": 4,
 "nbformat_minor": 5
}
